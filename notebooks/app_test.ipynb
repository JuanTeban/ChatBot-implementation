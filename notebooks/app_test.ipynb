{
 "cells": [
  {
   "cell_type": "code",
   "execution_count": 67,
   "id": "c30afb93",
   "metadata": {},
   "outputs": [],
   "source": [
    "from typing import TypedDict, Annotated, Optional\n",
    "from langgraph.graph import add_messages, StateGraph, END, START\n",
    "from langchain_cerebras import ChatCerebras\n",
    "from dotenv import load_dotenv\n",
    "from langgraph.checkpoint.memory import MemorySaver\n",
    "from uuid import uuid4\n",
    "import json\n",
    "from langchain_core.messages import HumanMessage, AIMessage\n",
    "from langgraph.prebuilt import ToolNode, tools_condition\n",
    "\n",
    "\n",
    "load_dotenv()\n",
    "\n",
    "model = ChatCerebras(model =\"llama-3.3-70b\")"
   ]
  },
  {
   "cell_type": "code",
   "execution_count": null,
   "id": "2e559310",
   "metadata": {},
   "outputs": [],
   "source": [
    "from datetime import datetime, timezone, timedelta\n",
    "\n",
    "from langchain_core.tools import BaseTool\n",
    "\n",
    "#Primera toool que retorna la fecha y hora actual\n",
    "class CurrentTimeTool(BaseTool):\n",
    "    name: str = \"fecha_hora_actual\"\n",
    "    description: str = \"Retorna la fecha y hora actual en formato legible.\"\n",
    "\n",
    "    def _run(self) -> str:\n",
    "        \"\"\"Synchronous current time lookup.\"\"\"\n",
    "        now = datetime.now(timezone(timedelta(hours=-5)))\n",
    "        return now.strftime(\"%c\")\n",
    "\n",
    "    async def _arun(self) -> str:\n",
    "        \"\"\"Asynchronous current time lookup.\"\"\"\n",
    "        now = datetime.now(timezone(timedelta(hours=-5)))\n",
    "        return now.strftime(\"%c\")"
   ]
  },
  {
   "cell_type": "code",
   "execution_count": null,
   "id": "2322421c",
   "metadata": {},
   "outputs": [],
   "source": [
    "from langchain_community.tools import DuckDuckGoSearchRun\n",
    "\n",
    "def search_duckduckgo(query: str):\n",
    "    \"\"\"Searches DuckDuckGo using LangChain's DuckDuckGoSearchRun tool.\"\"\"\n",
    "    search = DuckDuckGoSearchRun()\n",
    "    return search.invoke(query)"
   ]
  },
  {
   "cell_type": "code",
   "execution_count": 82,
   "id": "7079b674",
   "metadata": {},
   "outputs": [
    {
     "name": "stderr",
     "output_type": "stream",
     "text": [
      "c:\\Users\\JuanEstebanGarciaGal\\Documents\\IBM\\Chatbot-Recursos\\Cuadernos\\venv\\Lib\\site-packages\\langchain_core\\tools\\base.py:1314: PydanticDeprecatedSince20: The `__fields__` attribute is deprecated, use `model_fields` instead. Deprecated in Pydantic V2.0 to be removed in V3.0. See Pydantic V2 Migration Guide at https://errors.pydantic.dev/2.11/migration/\n",
      "  fields = getattr(cls, \"model_fields\", {}) or getattr(cls, \"__fields__\", {})\n",
      "c:\\Users\\JuanEstebanGarciaGal\\Documents\\IBM\\Chatbot-Recursos\\Cuadernos\\venv\\Lib\\site-packages\\langchain_core\\tools\\base.py:1314: PydanticDeprecatedSince20: The `__fields__` attribute is deprecated, use `model_fields` instead. Deprecated in Pydantic V2.0 to be removed in V3.0. See Pydantic V2 Migration Guide at https://errors.pydantic.dev/2.11/migration/\n",
      "  fields = getattr(cls, \"model_fields\", {}) or getattr(cls, \"__fields__\", {})\n",
      "c:\\Users\\JuanEstebanGarciaGal\\Documents\\IBM\\Chatbot-Recursos\\Cuadernos\\venv\\Lib\\site-packages\\langchain_core\\tools\\base.py:1314: PydanticDeprecatedSince20: The `__fields__` attribute is deprecated, use `model_fields` instead. Deprecated in Pydantic V2.0 to be removed in V3.0. See Pydantic V2 Migration Guide at https://errors.pydantic.dev/2.11/migration/\n",
      "  fields = getattr(cls, \"model_fields\", {}) or getattr(cls, \"__fields__\", {})\n",
      "c:\\Users\\JuanEstebanGarciaGal\\Documents\\IBM\\Chatbot-Recursos\\Cuadernos\\venv\\Lib\\site-packages\\langchain_core\\tools\\base.py:1314: PydanticDeprecatedSince20: The `__fields__` attribute is deprecated, use `model_fields` instead. Deprecated in Pydantic V2.0 to be removed in V3.0. See Pydantic V2 Migration Guide at https://errors.pydantic.dev/2.11/migration/\n",
      "  fields = getattr(cls, \"model_fields\", {}) or getattr(cls, \"__fields__\", {})\n"
     ]
    }
   ],
   "source": [
    "tools = [CurrentTimeTool(), DuckDuckGoSearchRun()]\n",
    "llm_with_tools = model.bind_tools(tools)\n",
    "memory = MemorySaver()"
   ]
  },
  {
   "cell_type": "code",
   "execution_count": 84,
   "id": "a5cc8f69",
   "metadata": {},
   "outputs": [
    {
     "name": "stdout",
     "output_type": "stream",
     "text": [
      "=== content ===\n",
      "\n",
      "\n",
      "=== additional_kwargs ===\n",
      "{'tool_calls': [{'id': '3eea46d70', 'function': {'arguments': '{\"query\": \"CEO infiel noticia\"}', 'name': 'duckduckgo_search'}, 'type': 'function'}], 'refusal': None}\n",
      "\n",
      "=== response_metadata ===\n",
      "{'token_usage': {'completion_tokens': 17, 'prompt_tokens': 324, 'total_tokens': 341, 'completion_tokens_details': None, 'prompt_tokens_details': {'audio_tokens': None, 'cached_tokens': 0}}, 'model_name': 'llama-3.3-70b', 'system_fingerprint': 'fp_d9197bd9bfb96c41ef64', 'id': 'chatcmpl-81084871-cbe6-42d3-8e9e-4903f72a8c9a', 'service_tier': None, 'finish_reason': 'tool_calls', 'logprobs': None}\n",
      "\n",
      "=== tool_calls ===\n",
      "[{'name': 'duckduckgo_search', 'args': {'query': 'CEO infiel noticia'}, 'id': '3eea46d70', 'type': 'tool_call'}]\n",
      "\n",
      "=== usage_metadata ===\n",
      "{'input_tokens': 324, 'output_tokens': 17, 'total_tokens': 341, 'input_token_details': {'cache_read': 0}, 'output_token_details': {}}\n"
     ]
    }
   ],
   "source": [
    "\n",
    "response = llm_with_tools.invoke(\"Busca informacion de la noticia del CEO que fue atrapado siendo infiel\")\n",
    "\n",
    "print(\"=== content ===\")\n",
    "print(response.content)\n",
    "\n",
    "print(\"\\n=== additional_kwargs ===\")\n",
    "print(response.additional_kwargs)\n",
    "\n",
    "print(\"\\n=== response_metadata ===\")\n",
    "print(response.response_metadata)\n",
    "\n",
    "print(\"\\n=== tool_calls ===\")\n",
    "print(response.tool_calls)\n",
    "\n",
    "print(\"\\n=== usage_metadata ===\")\n",
    "print(response.usage_metadata)"
   ]
  },
  {
   "cell_type": "code",
   "execution_count": 85,
   "id": "2dd36db0",
   "metadata": {},
   "outputs": [
    {
     "name": "stderr",
     "output_type": "stream",
     "text": [
      "c:\\Users\\JuanEstebanGarciaGal\\Documents\\IBM\\Chatbot-Recursos\\Cuadernos\\venv\\Lib\\site-packages\\langchain_core\\tools\\base.py:1314: PydanticDeprecatedSince20: The `__fields__` attribute is deprecated, use `model_fields` instead. Deprecated in Pydantic V2.0 to be removed in V3.0. See Pydantic V2 Migration Guide at https://errors.pydantic.dev/2.11/migration/\n",
      "  fields = getattr(cls, \"model_fields\", {}) or getattr(cls, \"__fields__\", {})\n",
      "c:\\Users\\JuanEstebanGarciaGal\\Documents\\IBM\\Chatbot-Recursos\\Cuadernos\\venv\\Lib\\site-packages\\langchain_core\\tools\\base.py:1314: PydanticDeprecatedSince20: The `__fields__` attribute is deprecated, use `model_fields` instead. Deprecated in Pydantic V2.0 to be removed in V3.0. See Pydantic V2 Migration Guide at https://errors.pydantic.dev/2.11/migration/\n",
      "  fields = getattr(cls, \"model_fields\", {}) or getattr(cls, \"__fields__\", {})\n"
     ]
    }
   ],
   "source": [
    "from langchain_core.messages import HumanMessage, AIMessage, ToolMessage\n",
    "from langgraph.prebuilt import ToolNode\n",
    "from langgraph.prebuilt import tools_condition\n",
    "\n",
    "class State(TypedDict):\n",
    "    messages: Annotated[list, add_messages]\n",
    "\n",
    "async def model_node(state: State):\n",
    "    result = await llm_with_tools.ainvoke(state[\"messages\"])\n",
    "    return {\"messages\": [result]}\n",
    "\n",
    "async def tools_router(state: State):\n",
    "    last_message = state[\"messages\"][-1]\n",
    "    if hasattr(last_message, \"tool_calls\") and last_message.tool_calls:\n",
    "        return \"tool_node\"\n",
    "    else:\n",
    "        return END\n",
    "    \n",
    "#La función tool_node se encarga de procesar las llamadas a herramientas\n",
    "tool_node = ToolNode(tools = tools)\n",
    "async def tool_node_down(state: State):\n",
    "    tools_calls = state[\"messages\"][-1].tool_calls\n",
    "\n",
    "    print(f\"Tool calls: {tools_calls}\")\n",
    "\n",
    "    tool_messages = []\n",
    "\n",
    "    for tool_call in tools_calls:\n",
    "        tool_name = tool_call[\"name\"]\n",
    "        tool_args = tool_call[\"args\"]\n",
    "        tool_id = tool_call[\"id\"]\n",
    "\n",
    "        if tool_name == \"fecha_hora_actual\":\n",
    "            data_time_result = await CurrentTimeTool().ainvoke(tool_args)\n",
    "\n",
    "            print(f\"Tool result: {data_time_result}\")\n",
    "\n",
    "            tool_message = ToolMessage(\n",
    "                content=str(data_time_result),\n",
    "                tool_call_id=tool_id,\n",
    "                name=tool_name\n",
    "            )\n",
    "\n",
    "            tool_messages.append(tool_message)\n",
    "    \n",
    "    return {\"messages\": tool_messages}\n",
    "\n",
    "\n",
    "graph_builder = StateGraph(State)\n",
    "\n",
    "graph_builder.add_node(\"model_node\", model_node)\n",
    "graph_builder.add_node(\"tool_node\", tool_node)\n",
    "\n",
    "graph_builder.add_edge(START, \"model_node\")\n",
    "\n",
    "# Se debe proveer un diccionario que mapee el resultado del router a los nodos.\n",
    "# Si el router devuelve \"tool_node\", va a \"tool_node\". Si devuelve END, termina.\n",
    "graph_builder.add_conditional_edges(\n",
    "    \"model_node\",\n",
    "    tools_router,\n",
    "    {\n",
    "        \"tool_node\": \"tool_node\",\n",
    "        END: END\n",
    "    }\n",
    ")\n",
    "\n",
    "graph_builder.add_edge(\"tool_node\", \"model_node\")\n",
    "\n",
    "graph = graph_builder.compile(checkpointer=memory)\n",
    "\n"
   ]
  },
  {
   "cell_type": "code",
   "execution_count": 86,
   "id": "ae9a2a46",
   "metadata": {},
   "outputs": [
    {
     "data": {
      "image/png": "[encoded data removed]",
      "text/plain": [
       "<IPython.core.display.Image object>"
      ]
     },
     "metadata": {},
     "output_type": "display_data"
    }
   ],
   "source": [
    "from IPython.display import Image, display\n",
    "from langchain_core.runnables.graph import MermaidDrawMethod\n",
    "\n",
    "display(\n",
    "    Image(\n",
    "        graph.get_graph().draw_mermaid_png(\n",
    "            draw_method=MermaidDrawMethod.API\n",
    "        )\n",
    "                     \n",
    "    )\n",
    ")\n"
   ]
  },
  {
   "cell_type": "code",
   "execution_count": null,
   "id": "e0d454c4",
   "metadata": {},
   "outputs": [
    {
     "name": "stdout",
     "output_type": "stream",
     "text": [
      "{'event': 'on_chain_start', 'data': {'input': {'messages': [HumanMessage(content=\"Hi, I'm Harish\", additional_kwargs={}, response_metadata={})]}}, 'name': 'LangGraph', 'tags': [], 'run_id': '631e7716-f633-41f1-85d1-bd32288911a0', 'metadata': {'thread_id': 6}, 'parent_ids': []}\n",
      "{'event': 'on_chain_start', 'data': {'input': {'messages': [HumanMessage(content=\"Hi, I'm Harish\", additional_kwargs={}, response_metadata={}, id='f3e9edc6-5289-49d7-aa78-8e75186a67c3')]}}, 'name': 'model_node', 'tags': ['graph:step:1'], 'run_id': '8a27dcb3-d956-4a99-ba03-6ffa4c1c0f65', 'metadata': {'thread_id': 6, 'langgraph_step': 1, 'langgraph_node': 'model_node', 'langgraph_triggers': ('branch:to:model_node',), 'langgraph_path': ('__pregel_pull', 'model_node'), 'langgraph_checkpoint_ns': 'model_node:ad518c34-889c-ad88-a4ce-5d88cc2e9703'}, 'parent_ids': ['631e7716-f633-41f1-85d1-bd32288911a0']}\n",
      "{'event': 'on_chat_model_start', 'data': {'input': {'messages': [[HumanMessage(content=\"Hi, I'm Harish\", additional_kwargs={}, response_metadata={}, id='f3e9edc6-5289-49d7-aa78-8e75186a67c3')]]}}, 'name': 'ChatCerebras', 'tags': ['seq:step:1'], 'run_id': '3e690b8a-bb77-4d66-bcfc-cee83f885c6e', 'metadata': {'thread_id': 6, 'langgraph_step': 1, 'langgraph_node': 'model_node', 'langgraph_triggers': ('branch:to:model_node',), 'langgraph_path': ('__pregel_pull', 'model_node'), 'langgraph_checkpoint_ns': 'model_node:ad518c34-889c-ad88-a4ce-5d88cc2e9703', 'checkpoint_ns': 'model_node:ad518c34-889c-ad88-a4ce-5d88cc2e9703', 'ls_provider': 'cerebras', 'ls_model_name': 'llama-3.3-70b', 'ls_model_type': 'chat', 'ls_temperature': None}, 'parent_ids': ['631e7716-f633-41f1-85d1-bd32288911a0', '8a27dcb3-d956-4a99-ba03-6ffa4c1c0f65']}\n",
      "{'event': 'on_chat_model_stream', 'data': {'chunk': AIMessageChunk(content='', additional_kwargs={}, response_metadata={}, id='run--3e690b8a-bb77-4d66-bcfc-cee83f885c6e')}, 'run_id': '3e690b8a-bb77-4d66-bcfc-cee83f885c6e', 'name': 'ChatCerebras', 'tags': ['seq:step:1'], 'metadata': {'thread_id': 6, 'langgraph_step': 1, 'langgraph_node': 'model_node', 'langgraph_triggers': ('branch:to:model_node',), 'langgraph_path': ('__pregel_pull', 'model_node'), 'langgraph_checkpoint_ns': 'model_node:ad518c34-889c-ad88-a4ce-5d88cc2e9703', 'checkpoint_ns': 'model_node:ad518c34-889c-ad88-a4ce-5d88cc2e9703', 'ls_provider': 'cerebras', 'ls_model_name': 'llama-3.3-70b', 'ls_model_type': 'chat', 'ls_temperature': None}, 'parent_ids': ['631e7716-f633-41f1-85d1-bd32288911a0', '8a27dcb3-d956-4a99-ba03-6ffa4c1c0f65']}\n",
      "{'event': 'on_chat_model_stream', 'data': {'chunk': AIMessageChunk(content='Hello', additional_kwargs={}, response_metadata={}, id='run--3e690b8a-bb77-4d66-bcfc-cee83f885c6e')}, 'run_id': '3e690b8a-bb77-4d66-bcfc-cee83f885c6e', 'name': 'ChatCerebras', 'tags': ['seq:step:1'], 'metadata': {'thread_id': 6, 'langgraph_step': 1, 'langgraph_node': 'model_node', 'langgraph_triggers': ('branch:to:model_node',), 'langgraph_path': ('__pregel_pull', 'model_node'), 'langgraph_checkpoint_ns': 'model_node:ad518c34-889c-ad88-a4ce-5d88cc2e9703', 'checkpoint_ns': 'model_node:ad518c34-889c-ad88-a4ce-5d88cc2e9703', 'ls_provider': 'cerebras', 'ls_model_name': 'llama-3.3-70b', 'ls_model_type': 'chat', 'ls_temperature': None}, 'parent_ids': ['631e7716-f633-41f1-85d1-bd32288911a0', '8a27dcb3-d956-4a99-ba03-6ffa4c1c0f65']}\n",
      "{'event': 'on_chat_model_stream', 'data': {'chunk': AIMessageChunk(content=' Har', additional_kwargs={}, response_metadata={}, id='run--3e690b8a-bb77-4d66-bcfc-cee83f885c6e')}, 'run_id': '3e690b8a-bb77-4d66-bcfc-cee83f885c6e', 'name': 'ChatCerebras', 'tags': ['seq:step:1'], 'metadata': {'thread_id': 6, 'langgraph_step': 1, 'langgraph_node': 'model_node', 'langgraph_triggers': ('branch:to:model_node',), 'langgraph_path': ('__pregel_pull', 'model_node'), 'langgraph_checkpoint_ns': 'model_node:ad518c34-889c-ad88-a4ce-5d88cc2e9703', 'checkpoint_ns': 'model_node:ad518c34-889c-ad88-a4ce-5d88cc2e9703', 'ls_provider': 'cerebras', 'ls_model_name': 'llama-3.3-70b', 'ls_model_type': 'chat', 'ls_temperature': None}, 'parent_ids': ['631e7716-f633-41f1-85d1-bd32288911a0', '8a27dcb3-d956-4a99-ba03-6ffa4c1c0f65']}\n",
      "{'event': 'on_chat_model_stream', 'data': {'chunk': AIMessageChunk(content='ish', additional_kwargs={}, response_metadata={}, id='run--3e690b8a-bb77-4d66-bcfc-cee83f885c6e')}, 'run_id': '3e690b8a-bb77-4d66-bcfc-cee83f885c6e', 'name': 'ChatCerebras', 'tags': ['seq:step:1'], 'metadata': {'thread_id': 6, 'langgraph_step': 1, 'langgraph_node': 'model_node', 'langgraph_triggers': ('branch:to:model_node',), 'langgraph_path': ('__pregel_pull', 'model_node'), 'langgraph_checkpoint_ns': 'model_node:ad518c34-889c-ad88-a4ce-5d88cc2e9703', 'checkpoint_ns': 'model_node:ad518c34-889c-ad88-a4ce-5d88cc2e9703', 'ls_provider': 'cerebras', 'ls_model_name': 'llama-3.3-70b', 'ls_model_type': 'chat', 'ls_temperature': None}, 'parent_ids': ['631e7716-f633-41f1-85d1-bd32288911a0', '8a27dcb3-d956-4a99-ba03-6ffa4c1c0f65']}\n",
      "{'event': 'on_chat_model_stream', 'data': {'chunk': AIMessageChunk(content='!', additional_kwargs={}, response_metadata={}, id='run--3e690b8a-bb77-4d66-bcfc-cee83f885c6e')}, 'run_id': '3e690b8a-bb77-4d66-bcfc-cee83f885c6e', 'name': 'ChatCerebras', 'tags': ['seq:step:1'], 'metadata': {'thread_id': 6, 'langgraph_step': 1, 'langgraph_node': 'model_node', 'langgraph_triggers': ('branch:to:model_node',), 'langgraph_path': ('__pregel_pull', 'model_node'), 'langgraph_checkpoint_ns': 'model_node:ad518c34-889c-ad88-a4ce-5d88cc2e9703', 'checkpoint_ns': 'model_node:ad518c34-889c-ad88-a4ce-5d88cc2e9703', 'ls_provider': 'cerebras', 'ls_model_name': 'llama-3.3-70b', 'ls_model_type': 'chat', 'ls_temperature': None}, 'parent_ids': ['631e7716-f633-41f1-85d1-bd32288911a0', '8a27dcb3-d956-4a99-ba03-6ffa4c1c0f65']}\n",
      "{'event': 'on_chat_model_stream', 'data': {'chunk': AIMessageChunk(content=' It', additional_kwargs={}, response_metadata={}, id='run--3e690b8a-bb77-4d66-bcfc-cee83f885c6e')}, 'run_id': '3e690b8a-bb77-4d66-bcfc-cee83f885c6e', 'name': 'ChatCerebras', 'tags': ['seq:step:1'], 'metadata': {'thread_id': 6, 'langgraph_step': 1, 'langgraph_node': 'model_node', 'langgraph_triggers': ('branch:to:model_node',), 'langgraph_path': ('__pregel_pull', 'model_node'), 'langgraph_checkpoint_ns': 'model_node:ad518c34-889c-ad88-a4ce-5d88cc2e9703', 'checkpoint_ns': 'model_node:ad518c34-889c-ad88-a4ce-5d88cc2e9703', 'ls_provider': 'cerebras', 'ls_model_name': 'llama-3.3-70b', 'ls_model_type': 'chat', 'ls_temperature': None}, 'parent_ids': ['631e7716-f633-41f1-85d1-bd32288911a0', '8a27dcb3-d956-4a99-ba03-6ffa4c1c0f65']}\n",
      "{'event': 'on_chat_model_stream', 'data': {'chunk': AIMessageChunk(content=\"'s\", additional_kwargs={}, response_metadata={}, id='run--3e690b8a-bb77-4d66-bcfc-cee83f885c6e')}, 'run_id': '3e690b8a-bb77-4d66-bcfc-cee83f885c6e', 'name': 'ChatCerebras', 'tags': ['seq:step:1'], 'metadata': {'thread_id': 6, 'langgraph_step': 1, 'langgraph_node': 'model_node', 'langgraph_triggers': ('branch:to:model_node',), 'langgraph_path': ('__pregel_pull', 'model_node'), 'langgraph_checkpoint_ns': 'model_node:ad518c34-889c-ad88-a4ce-5d88cc2e9703', 'checkpoint_ns': 'model_node:ad518c34-889c-ad88-a4ce-5d88cc2e9703', 'ls_provider': 'cerebras', 'ls_model_name': 'llama-3.3-70b', 'ls_model_type': 'chat', 'ls_temperature': None}, 'parent_ids': ['631e7716-f633-41f1-85d1-bd32288911a0', '8a27dcb3-d956-4a99-ba03-6ffa4c1c0f65']}\n",
      "{'event': 'on_chat_model_stream', 'data': {'chunk': AIMessageChunk(content=' nice', additional_kwargs={}, response_metadata={}, id='run--3e690b8a-bb77-4d66-bcfc-cee83f885c6e')}, 'run_id': '3e690b8a-bb77-4d66-bcfc-cee83f885c6e', 'name': 'ChatCerebras', 'tags': ['seq:step:1'], 'metadata': {'thread_id': 6, 'langgraph_step': 1, 'langgraph_node': 'model_node', 'langgraph_triggers': ('branch:to:model_node',), 'langgraph_path': ('__pregel_pull', 'model_node'), 'langgraph_checkpoint_ns': 'model_node:ad518c34-889c-ad88-a4ce-5d88cc2e9703', 'checkpoint_ns': 'model_node:ad518c34-889c-ad88-a4ce-5d88cc2e9703', 'ls_provider': 'cerebras', 'ls_model_name': 'llama-3.3-70b', 'ls_model_type': 'chat', 'ls_temperature': None}, 'parent_ids': ['631e7716-f633-41f1-85d1-bd32288911a0', '8a27dcb3-d956-4a99-ba03-6ffa4c1c0f65']}\n",
      "{'event': 'on_chat_model_stream', 'data': {'chunk': AIMessageChunk(content=' to', additional_kwargs={}, response_metadata={}, id='run--3e690b8a-bb77-4d66-bcfc-cee83f885c6e')}, 'run_id': '3e690b8a-bb77-4d66-bcfc-cee83f885c6e', 'name': 'ChatCerebras', 'tags': ['seq:step:1'], 'metadata': {'thread_id': 6, 'langgraph_step': 1, 'langgraph_node': 'model_node', 'langgraph_triggers': ('branch:to:model_node',), 'langgraph_path': ('__pregel_pull', 'model_node'), 'langgraph_checkpoint_ns': 'model_node:ad518c34-889c-ad88-a4ce-5d88cc2e9703', 'checkpoint_ns': 'model_node:ad518c34-889c-ad88-a4ce-5d88cc2e9703', 'ls_provider': 'cerebras', 'ls_model_name': 'llama-3.3-70b', 'ls_model_type': 'chat', 'ls_temperature': None}, 'parent_ids': ['631e7716-f633-41f1-85d1-bd32288911a0', '8a27dcb3-d956-4a99-ba03-6ffa4c1c0f65']}\n",
      "{'event': 'on_chat_model_stream', 'data': {'chunk': AIMessageChunk(content=' meet', additional_kwargs={}, response_metadata={}, id='run--3e690b8a-bb77-4d66-bcfc-cee83f885c6e')}, 'run_id': '3e690b8a-bb77-4d66-bcfc-cee83f885c6e', 'name': 'ChatCerebras', 'tags': ['seq:step:1'], 'metadata': {'thread_id': 6, 'langgraph_step': 1, 'langgraph_node': 'model_node', 'langgraph_triggers': ('branch:to:model_node',), 'langgraph_path': ('__pregel_pull', 'model_node'), 'langgraph_checkpoint_ns': 'model_node:ad518c34-889c-ad88-a4ce-5d88cc2e9703', 'checkpoint_ns': 'model_node:ad518c34-889c-ad88-a4ce-5d88cc2e9703', 'ls_provider': 'cerebras', 'ls_model_name': 'llama-3.3-70b', 'ls_model_type': 'chat', 'ls_temperature': None}, 'parent_ids': ['631e7716-f633-41f1-85d1-bd32288911a0', '8a27dcb3-d956-4a99-ba03-6ffa4c1c0f65']}\n",
      "{'event': 'on_chat_model_stream', 'data': {'chunk': AIMessageChunk(content=' you', additional_kwargs={}, response_metadata={}, id='run--3e690b8a-bb77-4d66-bcfc-cee83f885c6e')}, 'run_id': '3e690b8a-bb77-4d66-bcfc-cee83f885c6e', 'name': 'ChatCerebras', 'tags': ['seq:step:1'], 'metadata': {'thread_id': 6, 'langgraph_step': 1, 'langgraph_node': 'model_node', 'langgraph_triggers': ('branch:to:model_node',), 'langgraph_path': ('__pregel_pull', 'model_node'), 'langgraph_checkpoint_ns': 'model_node:ad518c34-889c-ad88-a4ce-5d88cc2e9703', 'checkpoint_ns': 'model_node:ad518c34-889c-ad88-a4ce-5d88cc2e9703', 'ls_provider': 'cerebras', 'ls_model_name': 'llama-3.3-70b', 'ls_model_type': 'chat', 'ls_temperature': None}, 'parent_ids': ['631e7716-f633-41f1-85d1-bd32288911a0', '8a27dcb3-d956-4a99-ba03-6ffa4c1c0f65']}\n",
      "{'event': 'on_chat_model_stream', 'data': {'chunk': AIMessageChunk(content='.', additional_kwargs={}, response_metadata={}, id='run--3e690b8a-bb77-4d66-bcfc-cee83f885c6e')}, 'run_id': '3e690b8a-bb77-4d66-bcfc-cee83f885c6e', 'name': 'ChatCerebras', 'tags': ['seq:step:1'], 'metadata': {'thread_id': 6, 'langgraph_step': 1, 'langgraph_node': 'model_node', 'langgraph_triggers': ('branch:to:model_node',), 'langgraph_path': ('__pregel_pull', 'model_node'), 'langgraph_checkpoint_ns': 'model_node:ad518c34-889c-ad88-a4ce-5d88cc2e9703', 'checkpoint_ns': 'model_node:ad518c34-889c-ad88-a4ce-5d88cc2e9703', 'ls_provider': 'cerebras', 'ls_model_name': 'llama-3.3-70b', 'ls_model_type': 'chat', 'ls_temperature': None}, 'parent_ids': ['631e7716-f633-41f1-85d1-bd32288911a0', '8a27dcb3-d956-4a99-ba03-6ffa4c1c0f65']}\n",
      "{'event': 'on_chat_model_stream', 'data': {'chunk': AIMessageChunk(content=' Is', additional_kwargs={}, response_metadata={}, id='run--3e690b8a-bb77-4d66-bcfc-cee83f885c6e')}, 'run_id': '3e690b8a-bb77-4d66-bcfc-cee83f885c6e', 'name': 'ChatCerebras', 'tags': ['seq:step:1'], 'metadata': {'thread_id': 6, 'langgraph_step': 1, 'langgraph_node': 'model_node', 'langgraph_triggers': ('branch:to:model_node',), 'langgraph_path': ('__pregel_pull', 'model_node'), 'langgraph_checkpoint_ns': 'model_node:ad518c34-889c-ad88-a4ce-5d88cc2e9703', 'checkpoint_ns': 'model_node:ad518c34-889c-ad88-a4ce-5d88cc2e9703', 'ls_provider': 'cerebras', 'ls_model_name': 'llama-3.3-70b', 'ls_model_type': 'chat', 'ls_temperature': None}, 'parent_ids': ['631e7716-f633-41f1-85d1-bd32288911a0', '8a27dcb3-d956-4a99-ba03-6ffa4c1c0f65']}\n",
      "{'event': 'on_chat_model_stream', 'data': {'chunk': AIMessageChunk(content=' there', additional_kwargs={}, response_metadata={}, id='run--3e690b8a-bb77-4d66-bcfc-cee83f885c6e')}, 'run_id': '3e690b8a-bb77-4d66-bcfc-cee83f885c6e', 'name': 'ChatCerebras', 'tags': ['seq:step:1'], 'metadata': {'thread_id': 6, 'langgraph_step': 1, 'langgraph_node': 'model_node', 'langgraph_triggers': ('branch:to:model_node',), 'langgraph_path': ('__pregel_pull', 'model_node'), 'langgraph_checkpoint_ns': 'model_node:ad518c34-889c-ad88-a4ce-5d88cc2e9703', 'checkpoint_ns': 'model_node:ad518c34-889c-ad88-a4ce-5d88cc2e9703', 'ls_provider': 'cerebras', 'ls_model_name': 'llama-3.3-70b', 'ls_model_type': 'chat', 'ls_temperature': None}, 'parent_ids': ['631e7716-f633-41f1-85d1-bd32288911a0', '8a27dcb3-d956-4a99-ba03-6ffa4c1c0f65']}\n",
      "{'event': 'on_chat_model_stream', 'data': {'chunk': AIMessageChunk(content=' something', additional_kwargs={}, response_metadata={}, id='run--3e690b8a-bb77-4d66-bcfc-cee83f885c6e')}, 'run_id': '3e690b8a-bb77-4d66-bcfc-cee83f885c6e', 'name': 'ChatCerebras', 'tags': ['seq:step:1'], 'metadata': {'thread_id': 6, 'langgraph_step': 1, 'langgraph_node': 'model_node', 'langgraph_triggers': ('branch:to:model_node',), 'langgraph_path': ('__pregel_pull', 'model_node'), 'langgraph_checkpoint_ns': 'model_node:ad518c34-889c-ad88-a4ce-5d88cc2e9703', 'checkpoint_ns': 'model_node:ad518c34-889c-ad88-a4ce-5d88cc2e9703', 'ls_provider': 'cerebras', 'ls_model_name': 'llama-3.3-70b', 'ls_model_type': 'chat', 'ls_temperature': None}, 'parent_ids': ['631e7716-f633-41f1-85d1-bd32288911a0', '8a27dcb3-d956-4a99-ba03-6ffa4c1c0f65']}\n",
      "{'event': 'on_chat_model_stream', 'data': {'chunk': AIMessageChunk(content=' I', additional_kwargs={}, response_metadata={}, id='run--3e690b8a-bb77-4d66-bcfc-cee83f885c6e')}, 'run_id': '3e690b8a-bb77-4d66-bcfc-cee83f885c6e', 'name': 'ChatCerebras', 'tags': ['seq:step:1'], 'metadata': {'thread_id': 6, 'langgraph_step': 1, 'langgraph_node': 'model_node', 'langgraph_triggers': ('branch:to:model_node',), 'langgraph_path': ('__pregel_pull', 'model_node'), 'langgraph_checkpoint_ns': 'model_node:ad518c34-889c-ad88-a4ce-5d88cc2e9703', 'checkpoint_ns': 'model_node:ad518c34-889c-ad88-a4ce-5d88cc2e9703', 'ls_provider': 'cerebras', 'ls_model_name': 'llama-3.3-70b', 'ls_model_type': 'chat', 'ls_temperature': None}, 'parent_ids': ['631e7716-f633-41f1-85d1-bd32288911a0', '8a27dcb3-d956-4a99-ba03-6ffa4c1c0f65']}\n",
      "{'event': 'on_chat_model_stream', 'data': {'chunk': AIMessageChunk(content=' can', additional_kwargs={}, response_metadata={}, id='run--3e690b8a-bb77-4d66-bcfc-cee83f885c6e')}, 'run_id': '3e690b8a-bb77-4d66-bcfc-cee83f885c6e', 'name': 'ChatCerebras', 'tags': ['seq:step:1'], 'metadata': {'thread_id': 6, 'langgraph_step': 1, 'langgraph_node': 'model_node', 'langgraph_triggers': ('branch:to:model_node',), 'langgraph_path': ('__pregel_pull', 'model_node'), 'langgraph_checkpoint_ns': 'model_node:ad518c34-889c-ad88-a4ce-5d88cc2e9703', 'checkpoint_ns': 'model_node:ad518c34-889c-ad88-a4ce-5d88cc2e9703', 'ls_provider': 'cerebras', 'ls_model_name': 'llama-3.3-70b', 'ls_model_type': 'chat', 'ls_temperature': None}, 'parent_ids': ['631e7716-f633-41f1-85d1-bd32288911a0', '8a27dcb3-d956-4a99-ba03-6ffa4c1c0f65']}\n",
      "{'event': 'on_chat_model_stream', 'data': {'chunk': AIMessageChunk(content=' help', additional_kwargs={}, response_metadata={}, id='run--3e690b8a-bb77-4d66-bcfc-cee83f885c6e')}, 'run_id': '3e690b8a-bb77-4d66-bcfc-cee83f885c6e', 'name': 'ChatCerebras', 'tags': ['seq:step:1'], 'metadata': {'thread_id': 6, 'langgraph_step': 1, 'langgraph_node': 'model_node', 'langgraph_triggers': ('branch:to:model_node',), 'langgraph_path': ('__pregel_pull', 'model_node'), 'langgraph_checkpoint_ns': 'model_node:ad518c34-889c-ad88-a4ce-5d88cc2e9703', 'checkpoint_ns': 'model_node:ad518c34-889c-ad88-a4ce-5d88cc2e9703', 'ls_provider': 'cerebras', 'ls_model_name': 'llama-3.3-70b', 'ls_model_type': 'chat', 'ls_temperature': None}, 'parent_ids': ['631e7716-f633-41f1-85d1-bd32288911a0', '8a27dcb3-d956-4a99-ba03-6ffa4c1c0f65']}\n",
      "{'event': 'on_chat_model_stream', 'data': {'chunk': AIMessageChunk(content=' you', additional_kwargs={}, response_metadata={}, id='run--3e690b8a-bb77-4d66-bcfc-cee83f885c6e')}, 'run_id': '3e690b8a-bb77-4d66-bcfc-cee83f885c6e', 'name': 'ChatCerebras', 'tags': ['seq:step:1'], 'metadata': {'thread_id': 6, 'langgraph_step': 1, 'langgraph_node': 'model_node', 'langgraph_triggers': ('branch:to:model_node',), 'langgraph_path': ('__pregel_pull', 'model_node'), 'langgraph_checkpoint_ns': 'model_node:ad518c34-889c-ad88-a4ce-5d88cc2e9703', 'checkpoint_ns': 'model_node:ad518c34-889c-ad88-a4ce-5d88cc2e9703', 'ls_provider': 'cerebras', 'ls_model_name': 'llama-3.3-70b', 'ls_model_type': 'chat', 'ls_temperature': None}, 'parent_ids': ['631e7716-f633-41f1-85d1-bd32288911a0', '8a27dcb3-d956-4a99-ba03-6ffa4c1c0f65']}\n",
      "{'event': 'on_chat_model_stream', 'data': {'chunk': AIMessageChunk(content=' with', additional_kwargs={}, response_metadata={}, id='run--3e690b8a-bb77-4d66-bcfc-cee83f885c6e')}, 'run_id': '3e690b8a-bb77-4d66-bcfc-cee83f885c6e', 'name': 'ChatCerebras', 'tags': ['seq:step:1'], 'metadata': {'thread_id': 6, 'langgraph_step': 1, 'langgraph_node': 'model_node', 'langgraph_triggers': ('branch:to:model_node',), 'langgraph_path': ('__pregel_pull', 'model_node'), 'langgraph_checkpoint_ns': 'model_node:ad518c34-889c-ad88-a4ce-5d88cc2e9703', 'checkpoint_ns': 'model_node:ad518c34-889c-ad88-a4ce-5d88cc2e9703', 'ls_provider': 'cerebras', 'ls_model_name': 'llama-3.3-70b', 'ls_model_type': 'chat', 'ls_temperature': None}, 'parent_ids': ['631e7716-f633-41f1-85d1-bd32288911a0', '8a27dcb3-d956-4a99-ba03-6ffa4c1c0f65']}\n",
      "{'event': 'on_chat_model_stream', 'data': {'chunk': AIMessageChunk(content=' or', additional_kwargs={}, response_metadata={}, id='run--3e690b8a-bb77-4d66-bcfc-cee83f885c6e')}, 'run_id': '3e690b8a-bb77-4d66-bcfc-cee83f885c6e', 'name': 'ChatCerebras', 'tags': ['seq:step:1'], 'metadata': {'thread_id': 6, 'langgraph_step': 1, 'langgraph_node': 'model_node', 'langgraph_triggers': ('branch:to:model_node',), 'langgraph_path': ('__pregel_pull', 'model_node'), 'langgraph_checkpoint_ns': 'model_node:ad518c34-889c-ad88-a4ce-5d88cc2e9703', 'checkpoint_ns': 'model_node:ad518c34-889c-ad88-a4ce-5d88cc2e9703', 'ls_provider': 'cerebras', 'ls_model_name': 'llama-3.3-70b', 'ls_model_type': 'chat', 'ls_temperature': None}, 'parent_ids': ['631e7716-f633-41f1-85d1-bd32288911a0', '8a27dcb3-d956-4a99-ba03-6ffa4c1c0f65']}\n",
      "{'event': 'on_chat_model_stream', 'data': {'chunk': AIMessageChunk(content=' would', additional_kwargs={}, response_metadata={}, id='run--3e690b8a-bb77-4d66-bcfc-cee83f885c6e')}, 'run_id': '3e690b8a-bb77-4d66-bcfc-cee83f885c6e', 'name': 'ChatCerebras', 'tags': ['seq:step:1'], 'metadata': {'thread_id': 6, 'langgraph_step': 1, 'langgraph_node': 'model_node', 'langgraph_triggers': ('branch:to:model_node',), 'langgraph_path': ('__pregel_pull', 'model_node'), 'langgraph_checkpoint_ns': 'model_node:ad518c34-889c-ad88-a4ce-5d88cc2e9703', 'checkpoint_ns': 'model_node:ad518c34-889c-ad88-a4ce-5d88cc2e9703', 'ls_provider': 'cerebras', 'ls_model_name': 'llama-3.3-70b', 'ls_model_type': 'chat', 'ls_temperature': None}, 'parent_ids': ['631e7716-f633-41f1-85d1-bd32288911a0', '8a27dcb3-d956-4a99-ba03-6ffa4c1c0f65']}\n",
      "{'event': 'on_chat_model_stream', 'data': {'chunk': AIMessageChunk(content=' you', additional_kwargs={}, response_metadata={}, id='run--3e690b8a-bb77-4d66-bcfc-cee83f885c6e')}, 'run_id': '3e690b8a-bb77-4d66-bcfc-cee83f885c6e', 'name': 'ChatCerebras', 'tags': ['seq:step:1'], 'metadata': {'thread_id': 6, 'langgraph_step': 1, 'langgraph_node': 'model_node', 'langgraph_triggers': ('branch:to:model_node',), 'langgraph_path': ('__pregel_pull', 'model_node'), 'langgraph_checkpoint_ns': 'model_node:ad518c34-889c-ad88-a4ce-5d88cc2e9703', 'checkpoint_ns': 'model_node:ad518c34-889c-ad88-a4ce-5d88cc2e9703', 'ls_provider': 'cerebras', 'ls_model_name': 'llama-3.3-70b', 'ls_model_type': 'chat', 'ls_temperature': None}, 'parent_ids': ['631e7716-f633-41f1-85d1-bd32288911a0', '8a27dcb3-d956-4a99-ba03-6ffa4c1c0f65']}\n",
      "{'event': 'on_chat_model_stream', 'data': {'chunk': AIMessageChunk(content=' like', additional_kwargs={}, response_metadata={}, id='run--3e690b8a-bb77-4d66-bcfc-cee83f885c6e')}, 'run_id': '3e690b8a-bb77-4d66-bcfc-cee83f885c6e', 'name': 'ChatCerebras', 'tags': ['seq:step:1'], 'metadata': {'thread_id': 6, 'langgraph_step': 1, 'langgraph_node': 'model_node', 'langgraph_triggers': ('branch:to:model_node',), 'langgraph_path': ('__pregel_pull', 'model_node'), 'langgraph_checkpoint_ns': 'model_node:ad518c34-889c-ad88-a4ce-5d88cc2e9703', 'checkpoint_ns': 'model_node:ad518c34-889c-ad88-a4ce-5d88cc2e9703', 'ls_provider': 'cerebras', 'ls_model_name': 'llama-3.3-70b', 'ls_model_type': 'chat', 'ls_temperature': None}, 'parent_ids': ['631e7716-f633-41f1-85d1-bd32288911a0', '8a27dcb3-d956-4a99-ba03-6ffa4c1c0f65']}\n",
      "{'event': 'on_chat_model_stream', 'data': {'chunk': AIMessageChunk(content=' to', additional_kwargs={}, response_metadata={}, id='run--3e690b8a-bb77-4d66-bcfc-cee83f885c6e')}, 'run_id': '3e690b8a-bb77-4d66-bcfc-cee83f885c6e', 'name': 'ChatCerebras', 'tags': ['seq:step:1'], 'metadata': {'thread_id': 6, 'langgraph_step': 1, 'langgraph_node': 'model_node', 'langgraph_triggers': ('branch:to:model_node',), 'langgraph_path': ('__pregel_pull', 'model_node'), 'langgraph_checkpoint_ns': 'model_node:ad518c34-889c-ad88-a4ce-5d88cc2e9703', 'checkpoint_ns': 'model_node:ad518c34-889c-ad88-a4ce-5d88cc2e9703', 'ls_provider': 'cerebras', 'ls_model_name': 'llama-3.3-70b', 'ls_model_type': 'chat', 'ls_temperature': None}, 'parent_ids': ['631e7716-f633-41f1-85d1-bd32288911a0', '8a27dcb3-d956-4a99-ba03-6ffa4c1c0f65']}\n",
      "{'event': 'on_chat_model_stream', 'data': {'chunk': AIMessageChunk(content=' chat', additional_kwargs={}, response_metadata={}, id='run--3e690b8a-bb77-4d66-bcfc-cee83f885c6e')}, 'run_id': '3e690b8a-bb77-4d66-bcfc-cee83f885c6e', 'name': 'ChatCerebras', 'tags': ['seq:step:1'], 'metadata': {'thread_id': 6, 'langgraph_step': 1, 'langgraph_node': 'model_node', 'langgraph_triggers': ('branch:to:model_node',), 'langgraph_path': ('__pregel_pull', 'model_node'), 'langgraph_checkpoint_ns': 'model_node:ad518c34-889c-ad88-a4ce-5d88cc2e9703', 'checkpoint_ns': 'model_node:ad518c34-889c-ad88-a4ce-5d88cc2e9703', 'ls_provider': 'cerebras', 'ls_model_name': 'llama-3.3-70b', 'ls_model_type': 'chat', 'ls_temperature': None}, 'parent_ids': ['631e7716-f633-41f1-85d1-bd32288911a0', '8a27dcb3-d956-4a99-ba03-6ffa4c1c0f65']}\n",
      "{'event': 'on_chat_model_stream', 'data': {'chunk': AIMessageChunk(content='?', additional_kwargs={}, response_metadata={}, id='run--3e690b8a-bb77-4d66-bcfc-cee83f885c6e')}, 'run_id': '3e690b8a-bb77-4d66-bcfc-cee83f885c6e', 'name': 'ChatCerebras', 'tags': ['seq:step:1'], 'metadata': {'thread_id': 6, 'langgraph_step': 1, 'langgraph_node': 'model_node', 'langgraph_triggers': ('branch:to:model_node',), 'langgraph_path': ('__pregel_pull', 'model_node'), 'langgraph_checkpoint_ns': 'model_node:ad518c34-889c-ad88-a4ce-5d88cc2e9703', 'checkpoint_ns': 'model_node:ad518c34-889c-ad88-a4ce-5d88cc2e9703', 'ls_provider': 'cerebras', 'ls_model_name': 'llama-3.3-70b', 'ls_model_type': 'chat', 'ls_temperature': None}, 'parent_ids': ['631e7716-f633-41f1-85d1-bd32288911a0', '8a27dcb3-d956-4a99-ba03-6ffa4c1c0f65']}\n",
      "{'event': 'on_chat_model_stream', 'data': {'chunk': AIMessageChunk(content='', additional_kwargs={}, response_metadata={}, id='run--3e690b8a-bb77-4d66-bcfc-cee83f885c6e')}, 'run_id': '3e690b8a-bb77-4d66-bcfc-cee83f885c6e', 'name': 'ChatCerebras', 'tags': ['seq:step:1'], 'metadata': {'thread_id': 6, 'langgraph_step': 1, 'langgraph_node': 'model_node', 'langgraph_triggers': ('branch:to:model_node',), 'langgraph_path': ('__pregel_pull', 'model_node'), 'langgraph_checkpoint_ns': 'model_node:ad518c34-889c-ad88-a4ce-5d88cc2e9703', 'checkpoint_ns': 'model_node:ad518c34-889c-ad88-a4ce-5d88cc2e9703', 'ls_provider': 'cerebras', 'ls_model_name': 'llama-3.3-70b', 'ls_model_type': 'chat', 'ls_temperature': None}, 'parent_ids': ['631e7716-f633-41f1-85d1-bd32288911a0', '8a27dcb3-d956-4a99-ba03-6ffa4c1c0f65']}\n",
      "{'event': 'on_chat_model_stream', 'data': {'chunk': AIMessageChunk(content='', additional_kwargs={}, response_metadata={'finish_reason': 'stop', 'model_name': 'llama-3.3-70b', 'system_fingerprint': 'fp_d9197bd9bfb96c41ef64'}, id='run--3e690b8a-bb77-4d66-bcfc-cee83f885c6e', usage_metadata={'input_tokens': 312, 'output_tokens': 31, 'total_tokens': 343, 'input_token_details': {'cache_read': 0}, 'output_token_details': {}})}, 'run_id': '3e690b8a-bb77-4d66-bcfc-cee83f885c6e', 'name': 'ChatCerebras', 'tags': ['seq:step:1'], 'metadata': {'thread_id': 6, 'langgraph_step': 1, 'langgraph_node': 'model_node', 'langgraph_triggers': ('branch:to:model_node',), 'langgraph_path': ('__pregel_pull', 'model_node'), 'langgraph_checkpoint_ns': 'model_node:ad518c34-889c-ad88-a4ce-5d88cc2e9703', 'checkpoint_ns': 'model_node:ad518c34-889c-ad88-a4ce-5d88cc2e9703', 'ls_provider': 'cerebras', 'ls_model_name': 'llama-3.3-70b', 'ls_model_type': 'chat', 'ls_temperature': None}, 'parent_ids': ['631e7716-f633-41f1-85d1-bd32288911a0', '8a27dcb3-d956-4a99-ba03-6ffa4c1c0f65']}\n",
      "{'event': 'on_chat_model_end', 'data': {'output': AIMessage(content=\"Hello Harish! It's nice to meet you. Is there something I can help you with or would you like to chat?\", additional_kwargs={}, response_metadata={'finish_reason': 'stop', 'model_name': 'llama-3.3-70b', 'system_fingerprint': 'fp_d9197bd9bfb96c41ef64'}, id='run--3e690b8a-bb77-4d66-bcfc-cee83f885c6e', usage_metadata={'input_tokens': 312, 'output_tokens': 31, 'total_tokens': 343, 'input_token_details': {'cache_read': 0}, 'output_token_details': {}}), 'input': {'messages': [[HumanMessage(content=\"Hi, I'm Harish\", additional_kwargs={}, response_metadata={}, id='f3e9edc6-5289-49d7-aa78-8e75186a67c3')]]}}, 'run_id': '3e690b8a-bb77-4d66-bcfc-cee83f885c6e', 'name': 'ChatCerebras', 'tags': ['seq:step:1'], 'metadata': {'thread_id': 6, 'langgraph_step': 1, 'langgraph_node': 'model_node', 'langgraph_triggers': ('branch:to:model_node',), 'langgraph_path': ('__pregel_pull', 'model_node'), 'langgraph_checkpoint_ns': 'model_node:ad518c34-889c-ad88-a4ce-5d88cc2e9703', 'checkpoint_ns': 'model_node:ad518c34-889c-ad88-a4ce-5d88cc2e9703', 'ls_provider': 'cerebras', 'ls_model_name': 'llama-3.3-70b', 'ls_model_type': 'chat', 'ls_temperature': None}, 'parent_ids': ['631e7716-f633-41f1-85d1-bd32288911a0', '8a27dcb3-d956-4a99-ba03-6ffa4c1c0f65']}\n",
      "{'event': 'on_chain_start', 'data': {'input': {'messages': [HumanMessage(content=\"Hi, I'm Harish\", additional_kwargs={}, response_metadata={}, id='f3e9edc6-5289-49d7-aa78-8e75186a67c3'), AIMessage(content=\"Hello Harish! It's nice to meet you. Is there something I can help you with or would you like to chat?\", additional_kwargs={}, response_metadata={'finish_reason': 'stop', 'model_name': 'llama-3.3-70b', 'system_fingerprint': 'fp_d9197bd9bfb96c41ef64'}, id='run--3e690b8a-bb77-4d66-bcfc-cee83f885c6e', usage_metadata={'input_tokens': 312, 'output_tokens': 31, 'total_tokens': 343, 'input_token_details': {'cache_read': 0}, 'output_token_details': {}})]}}, 'name': 'tools_router', 'tags': ['seq:step:3'], 'run_id': 'ef13a9fd-9cd2-4ac5-940a-5cc2fa06b924', 'metadata': {'thread_id': 6, 'langgraph_step': 1, 'langgraph_node': 'model_node', 'langgraph_triggers': ('branch:to:model_node',), 'langgraph_path': ('__pregel_pull', 'model_node'), 'langgraph_checkpoint_ns': 'model_node:ad518c34-889c-ad88-a4ce-5d88cc2e9703'}, 'parent_ids': ['631e7716-f633-41f1-85d1-bd32288911a0', '8a27dcb3-d956-4a99-ba03-6ffa4c1c0f65']}\n",
      "{'event': 'on_chain_end', 'data': {'output': '__end__', 'input': {'messages': [HumanMessage(content=\"Hi, I'm Harish\", additional_kwargs={}, response_metadata={}, id='f3e9edc6-5289-49d7-aa78-8e75186a67c3'), AIMessage(content=\"Hello Harish! It's nice to meet you. Is there something I can help you with or would you like to chat?\", additional_kwargs={}, response_metadata={'finish_reason': 'stop', 'model_name': 'llama-3.3-70b', 'system_fingerprint': 'fp_d9197bd9bfb96c41ef64'}, id='run--3e690b8a-bb77-4d66-bcfc-cee83f885c6e', usage_metadata={'input_tokens': 312, 'output_tokens': 31, 'total_tokens': 343, 'input_token_details': {'cache_read': 0}, 'output_token_details': {}})]}}, 'run_id': 'ef13a9fd-9cd2-4ac5-940a-5cc2fa06b924', 'name': 'tools_router', 'tags': ['seq:step:3'], 'metadata': {'thread_id': 6, 'langgraph_step': 1, 'langgraph_node': 'model_node', 'langgraph_triggers': ('branch:to:model_node',), 'langgraph_path': ('__pregel_pull', 'model_node'), 'langgraph_checkpoint_ns': 'model_node:ad518c34-889c-ad88-a4ce-5d88cc2e9703'}, 'parent_ids': ['631e7716-f633-41f1-85d1-bd32288911a0', '8a27dcb3-d956-4a99-ba03-6ffa4c1c0f65']}\n",
      "{'event': 'on_chain_stream', 'run_id': '8a27dcb3-d956-4a99-ba03-6ffa4c1c0f65', 'name': 'model_node', 'tags': ['graph:step:1'], 'metadata': {'thread_id': 6, 'langgraph_step': 1, 'langgraph_node': 'model_node', 'langgraph_triggers': ('branch:to:model_node',), 'langgraph_path': ('__pregel_pull', 'model_node'), 'langgraph_checkpoint_ns': 'model_node:ad518c34-889c-ad88-a4ce-5d88cc2e9703'}, 'data': {'chunk': {'messages': [AIMessage(content=\"Hello Harish! It's nice to meet you. Is there something I can help you with or would you like to chat?\", additional_kwargs={}, response_metadata={'finish_reason': 'stop', 'model_name': 'llama-3.3-70b', 'system_fingerprint': 'fp_d9197bd9bfb96c41ef64'}, id='run--3e690b8a-bb77-4d66-bcfc-cee83f885c6e', usage_metadata={'input_tokens': 312, 'output_tokens': 31, 'total_tokens': 343, 'input_token_details': {'cache_read': 0}, 'output_token_details': {}})]}}, 'parent_ids': ['631e7716-f633-41f1-85d1-bd32288911a0']}\n",
      "{'event': 'on_chain_end', 'data': {'output': {'messages': [AIMessage(content=\"Hello Harish! It's nice to meet you. Is there something I can help you with or would you like to chat?\", additional_kwargs={}, response_metadata={'finish_reason': 'stop', 'model_name': 'llama-3.3-70b', 'system_fingerprint': 'fp_d9197bd9bfb96c41ef64'}, id='run--3e690b8a-bb77-4d66-bcfc-cee83f885c6e', usage_metadata={'input_tokens': 312, 'output_tokens': 31, 'total_tokens': 343, 'input_token_details': {'cache_read': 0}, 'output_token_details': {}})]}, 'input': {'messages': [HumanMessage(content=\"Hi, I'm Harish\", additional_kwargs={}, response_metadata={}, id='f3e9edc6-5289-49d7-aa78-8e75186a67c3')]}}, 'run_id': '8a27dcb3-d956-4a99-ba03-6ffa4c1c0f65', 'name': 'model_node', 'tags': ['graph:step:1'], 'metadata': {'thread_id': 6, 'langgraph_step': 1, 'langgraph_node': 'model_node', 'langgraph_triggers': ('branch:to:model_node',), 'langgraph_path': ('__pregel_pull', 'model_node'), 'langgraph_checkpoint_ns': 'model_node:ad518c34-889c-ad88-a4ce-5d88cc2e9703'}, 'parent_ids': ['631e7716-f633-41f1-85d1-bd32288911a0']}\n",
      "{'event': 'on_chain_stream', 'run_id': '631e7716-f633-41f1-85d1-bd32288911a0', 'name': 'LangGraph', 'tags': [], 'metadata': {'thread_id': 6}, 'data': {'chunk': {'model_node': {'messages': [AIMessage(content=\"Hello Harish! It's nice to meet you. Is there something I can help you with or would you like to chat?\", additional_kwargs={}, response_metadata={'finish_reason': 'stop', 'model_name': 'llama-3.3-70b', 'system_fingerprint': 'fp_d9197bd9bfb96c41ef64'}, id='run--3e690b8a-bb77-4d66-bcfc-cee83f885c6e', usage_metadata={'input_tokens': 312, 'output_tokens': 31, 'total_tokens': 343, 'input_token_details': {'cache_read': 0}, 'output_token_details': {}})]}}}, 'parent_ids': []}\n",
      "{'event': 'on_chain_end', 'data': {'output': {'messages': [HumanMessage(content=\"Hi, I'm Harish\", additional_kwargs={}, response_metadata={}, id='f3e9edc6-5289-49d7-aa78-8e75186a67c3'), AIMessage(content=\"Hello Harish! It's nice to meet you. Is there something I can help you with or would you like to chat?\", additional_kwargs={}, response_metadata={'finish_reason': 'stop', 'model_name': 'llama-3.3-70b', 'system_fingerprint': 'fp_d9197bd9bfb96c41ef64'}, id='run--3e690b8a-bb77-4d66-bcfc-cee83f885c6e', usage_metadata={'input_tokens': 312, 'output_tokens': 31, 'total_tokens': 343, 'input_token_details': {'cache_read': 0}, 'output_token_details': {}})]}}, 'run_id': '631e7716-f633-41f1-85d1-bd32288911a0', 'name': 'LangGraph', 'tags': [], 'metadata': {'thread_id': 6}, 'parent_ids': []}\n"
     ]
    }
   ],
   "source": [
    "config = {\n",
    "    \"configurable\": {\n",
    "        \"thread_id\": 6\n",
    "    }\n",
    "}\n",
    "\n",
    "# Use async for to iterate over the async generator\n",
    "async for event in graph.astream_events({\n",
    "    \"messages\": [HumanMessage(content=\"Hi, I'm Juan Esteban\")],\n",
    "}, config=config, version=\"v2\"):\n",
    "    print(event)"
   ]
  },
  {
   "cell_type": "code",
   "execution_count": null,
   "id": "5e652b0c",
   "metadata": {},
   "outputs": [
    {
     "name": "stdout",
     "output_type": "stream",
     "text": [
      "Tu nombre es Juan. Me lo dijiste al principio de nuestra conversación."
     ]
    }
   ],
   "source": [
    "config = {\n",
    "    \"configurable\": {\n",
    "        \"thread_id\": 7\n",
    "    }\n",
    "}\n",
    "\n",
    "# Use async for to iterate over the async generator\n",
    "async for event in graph.astream_events({\n",
    "    \"messages\": [HumanMessage(content=\"Cual es mi nombre\")],\n",
    "}, config=config, version=\"v2\"):\n",
    "    if event[\"event\"] == \"on_chat_model_stream\":\n",
    "        print(event[\"data\"][\"chunk\"].content, end=\"\", flush=True)"
   ]
  }
 ],
 "metadata": {
  "kernelspec": {
   "display_name": "venv",
   "language": "python",
   "name": "python3"
  },
  "language_info": {
   "codemirror_mode": {
    "name": "ipython",
    "version": 3
   },
   "file_extension": ".py",
   "mimetype": "text/x-python",
   "name": "python",
   "nbconvert_exporter": "python",
   "pygments_lexer": "ipython3",
   "version": "3.13.5"
  }
 },
 "nbformat": 4,
 "nbformat_minor": 5
}
